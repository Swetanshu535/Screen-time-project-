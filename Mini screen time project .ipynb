{
 "cells": [
  {
   "cell_type": "code",
   "execution_count": 3,
   "id": "61daf70d-1f21-4727-98db-f1fc95fdb5e7",
   "metadata": {},
   "outputs": [
    {
     "name": "stdout",
     "output_type": "stream",
     "text": [
      "    user_id     date     app_name       category  screen_time_min  launches  \\\n",
      "0      1051  00:00.0       Camera      Utilities            24.53         2   \n",
      "1      1088  43:41.7       Chrome      Utilities            19.78         3   \n",
      "2      1052  27:23.3      Spotify  Entertainment            32.03         1   \n",
      "3      1028  11:05.0  Google Maps      Utilities            19.10         2   \n",
      "4      1034  54:46.7    Instagram         Social            25.19         1   \n",
      "5      1064  38:28.4       Chrome      Utilities            85.15         2   \n",
      "6      1063  22:10.0    Instagram         Social             4.37         0   \n",
      "7      1095  05:51.7       Camera      Utilities            57.35         2   \n",
      "8      1060  49:33.4    Instagram         Social            58.42         3   \n",
      "9      1016  33:15.1     Snapchat         Social             5.08         0   \n",
      "10     1060  16:56.7    Instagram         Social            36.16         5   \n",
      "11     1044  00:38.4       Twitch  Entertainment             6.18         5   \n",
      "12     1065  44:20.1    Instagram         Social            31.61         5   \n",
      "13     1059  28:01.8     Snapchat         Social           110.47         5   \n",
      "14     1041  11:43.4      Netflix  Entertainment             4.10         2   \n",
      "15     1079  55:25.1        Slack   Productivity             5.97         5   \n",
      "16     1087  39:06.8        Gmail      Utilities            19.50         4   \n",
      "17     1003  22:48.5  Google Docs   Productivity            33.26         3   \n",
      "18     1041  06:30.1    Instagram         Social            13.79         0   \n",
      "19     1022  50:11.8        Gmail      Utilities            21.07         2   \n",
      "20     1093  33:53.5        Gmail      Utilities             9.53         3   \n",
      "21     1069  17:35.2     Snapchat         Social            21.09         2   \n",
      "22     1056  01:16.8        Slack   Productivity            33.38         4   \n",
      "\n",
      "    interactions  is_productive  extra_col_11  extra_col_12  ...  \\\n",
      "0              7          False         47.04         37.43  ...   \n",
      "1              2          False         65.22         50.02  ...   \n",
      "2              6          False         46.88         57.43  ...   \n",
      "3              5          False         44.15         49.34  ...   \n",
      "4              5          False         48.52         57.48  ...   \n",
      "5              5          False         38.67         49.96  ...   \n",
      "6              5          False         29.07         58.09  ...   \n",
      "7              5          False         50.61         63.96  ...   \n",
      "8              2          False         55.62         33.40  ...   \n",
      "9              7          False         55.88         55.80  ...   \n",
      "10             4          False         36.85         45.00  ...   \n",
      "11             7          False         40.72         73.13  ...   \n",
      "12             5          False         35.18         53.53  ...   \n",
      "13             1          False         61.09         43.69  ...   \n",
      "14             4          False         41.25         54.88  ...   \n",
      "15             4           True         49.00         55.05  ...   \n",
      "16             3          False         45.39         57.14  ...   \n",
      "17             5           True         35.54         34.93  ...   \n",
      "18             1          False         73.31         70.75  ...   \n",
      "19             3          False         46.04         62.43  ...   \n",
      "20             4          False         36.51         70.57  ...   \n",
      "21             3          False         56.81         41.84  ...   \n",
      "22             1           True         57.59         62.19  ...   \n",
      "\n",
      "    extra_col_14  extra_col_15  extra_col_16  extra_col_17  extra_col_18  \\\n",
      "0          33.43         49.03         64.74         49.49         47.64   \n",
      "1          44.06         49.40         66.63         62.10         47.64   \n",
      "2          55.18         41.87         54.84         65.59         61.28   \n",
      "3          59.39         47.87         54.68         56.14         63.98   \n",
      "4          51.58         60.38         51.23         44.38         52.71   \n",
      "5          39.72         49.51         46.77         64.65         56.46   \n",
      "6          41.64         47.35         47.58         44.37         50.46   \n",
      "7          52.43         38.45         38.67         36.04         42.14   \n",
      "8          41.59         41.69         44.76         62.96         56.71   \n",
      "9          47.32         54.31         65.51         61.68         62.45   \n",
      "10         59.12         42.46         44.10         66.32         43.08   \n",
      "11         52.25         59.88         54.13         50.68         33.23   \n",
      "12         39.24         31.00         49.99         57.78         46.20   \n",
      "13         50.76         42.65         58.13         25.33         50.39   \n",
      "14         64.26         54.60         50.26         50.25         58.44   \n",
      "15         53.53         58.53         30.59         33.69         48.60   \n",
      "16         60.41         41.49         62.12         58.54         46.60   \n",
      "17         54.23         36.58         29.21         59.04         74.97   \n",
      "18         50.36         55.93         57.79         62.38         38.19   \n",
      "19         54.55         54.08         50.15         51.05         63.94   \n",
      "20         40.13         46.00         37.55         45.51         41.38   \n",
      "21         50.87         33.87         43.76         37.23         69.65   \n",
      "22         58.05         48.32         61.80         67.78         46.48   \n",
      "\n",
      "    extra_col_19  extra_col_20  extra_col_21  extra_col_22  extra_col_23  \n",
      "0          38.34         39.56         49.14         62.18         55.91  \n",
      "1          51.88         42.35         55.86         45.96         46.69  \n",
      "2          49.51         41.11         55.53         44.13         71.01  \n",
      "3          46.75         46.98         40.15         48.11         50.09  \n",
      "4          58.19         37.47         55.64         51.60         37.37  \n",
      "5          54.96         77.01         54.29         44.74         30.51  \n",
      "6          52.42         51.46         52.64         59.76         44.91  \n",
      "7          55.90         44.75         59.52         49.90         37.87  \n",
      "8          51.15         62.90         43.87         69.96         47.37  \n",
      "9          49.79         53.38         70.39         27.47         56.65  \n",
      "10         42.87         35.27         45.14         51.70         50.69  \n",
      "11         44.10         51.47         44.00         46.85         59.65  \n",
      "12         44.72         49.29         50.90         46.74         58.30  \n",
      "13         50.74         60.87         43.62         41.84         51.24  \n",
      "14         57.18         39.96         51.58         61.10         57.54  \n",
      "15         54.97         40.65         53.67         48.32         57.59  \n",
      "16         29.23         36.94         47.19         48.66         65.01  \n",
      "17         47.40         57.56         37.11         45.87         45.73  \n",
      "18         65.13         64.86         43.38         65.26         53.99  \n",
      "19         56.76         36.51         43.09         37.69         54.86  \n",
      "20         39.86         52.90         41.53         71.38         53.50  \n",
      "21         53.26         42.94         58.51         63.26         50.33  \n",
      "22         47.30         28.20         51.15         48.51         25.48  \n",
      "\n",
      "[23 rows x 21 columns]\n"
     ]
    }
   ],
   "source": [
    "import pandas as pd\n",
    "import numpy as np\n",
    "import matplotlib.pyplot as plt\n",
    "import seaborn as sns \n",
    "df =pd.read_csv(\"C:\\\\Users\\\\Swetanshu\\\\Desktop\\\\Screen_time.csv\")\n",
    "print(df)"
   ]
  },
  {
   "cell_type": "markdown",
   "id": "eb279047-435e-4fe6-86ca-3ccdd011df61",
   "metadata": {},
   "source": [
    "Show the bar graph for app name and number of interatcions "
   ]
  },
  {
   "cell_type": "code",
   "execution_count": 9,
   "id": "db1f7d85-b9ac-42ed-a0c6-d75249885d28",
   "metadata": {},
   "outputs": [
    {
     "data": {
      "text/plain": [
       "<function matplotlib.pyplot.show(close=None, block=None)>"
      ]
     },
     "execution_count": 9,
     "metadata": {},
     "output_type": "execute_result"
    },
    {
     "data": {
      "image/png": "[encoded data removed]",
      "text/plain": [
       "<Figure size 1000x600 with 1 Axes>"
      ]
     },
     "metadata": {},
     "output_type": "display_data"
    }
   ],
   "source": [
    "app_interact=df.groupby(\"app_name\")[\"interactions\"].sum().sort_values(ascending=True)\n",
    "plt.figure(figsize=(10,6))\n",
    "app_interact.plot(kind=\"bar\",color=\"blue\")\n",
    "plt.xlabel(\"app_name\")\n",
    "plt.ylabel(\"interactions\")\n",
    "plt.title(\"App interactions\")\n",
    "plt.tight_layout()\n",
    "plt.xticks(rotation=45)\n",
    "plt.show"
   ]
  },
  {
   "cell_type": "markdown",
   "id": "fa35e28b-c969-4211-9add-1e72a094a337",
   "metadata": {},
   "source": [
    "Show the category and the screen_time_min"
   ]
  },
  {
   "cell_type": "code",
   "execution_count": null,
   "id": "9fcb657f-7a04-4081-bc5a-4e250fba3464",
   "metadata": {},
   "outputs": [],
   "source": [
    "category_screen=df.groupby(\"category\")[\"screen_time_min\"].sum().sort_values(ascending=False)\n",
    "plt.figure(figsize=(10,6))\n",
    "category_screen.plot(kind=\"bar\",color=\"yellow\")\n",
    "plt.title(\"Category and screen time\")\n",
    "plt.xlabel(\"category\")\n",
    "plt.ylabel(\"screen_time_min\")\n",
    "plt.xticks(rotation=45)\n",
    "plt.tight_layout"
   ]
  },
  {
   "cell_type": "code",
   "execution_count": null,
   "id": "72353eb8-cb23-4a46-acd8-b58eb90430f8",
   "metadata": {},
   "outputs": [],
   "source": []
  },
  {
   "cell_type": "code",
   "execution_count": null,
   "id": "bdaba4c6-689c-459d-8918-94b4d89c6003",
   "metadata": {},
   "outputs": [],
   "source": []
  },
  {
   "cell_type": "code",
   "execution_count": null,
   "id": "aece53cb-bb8f-407a-86c9-68aead00730d",
   "metadata": {},
   "outputs": [],
   "source": []
  },
  {
   "cell_type": "code",
   "execution_count": null,
   "id": "2fc9561a-a1de-4edc-b958-05a4b0d63916",
   "metadata": {},
   "outputs": [],
   "source": []
  },
  {
   "cell_type": "code",
   "execution_count": null,
   "id": "efc51003-e3d2-4652-a095-445e535b81a4",
   "metadata": {},
   "outputs": [],
   "source": []
  },
  {
   "cell_type": "code",
   "execution_count": null,
   "id": "8c7b4969-7c2c-45b1-87b2-460d0b58f699",
   "metadata": {},
   "outputs": [],
   "source": []
  },
  {
   "cell_type": "code",
   "execution_count": null,
   "id": "567849c7-b13b-484d-8ef8-a07a2c10f2ff",
   "metadata": {},
   "outputs": [],
   "source": []
  },
  {
   "cell_type": "code",
   "execution_count": null,
   "id": "b294c0eb-17b8-4d5a-8556-e01bd83b35a1",
   "metadata": {},
   "outputs": [],
   "source": []
  },
  {
   "cell_type": "code",
   "execution_count": null,
   "id": "13d17e62-5aa1-4110-ab11-bbc90a62c13e",
   "metadata": {},
   "outputs": [],
   "source": []
  },
  {
   "cell_type": "code",
   "execution_count": null,
   "id": "1e517f91-41fa-44e5-858a-191c23676f72",
   "metadata": {},
   "outputs": [],
   "source": []
  },
  {
   "cell_type": "code",
   "execution_count": null,
   "id": "b6be16bd-2655-41a7-bae1-8b418ad29f14",
   "metadata": {},
   "outputs": [],
   "source": []
  },
  {
   "cell_type": "code",
   "execution_count": null,
   "id": "fa77fb51-8e46-4f0e-9c0a-fb688859d060",
   "metadata": {},
   "outputs": [],
   "source": []
  }
 ],
 "metadata": {
  "kernelspec": {
   "display_name": "Python [conda env:base] *",
   "language": "python",
   "name": "conda-base-py"
  },
  "language_info": {
   "codemirror_mode": {
    "name": "ipython",
    "version": 3
   },
   "file_extension": ".py",
   "mimetype": "text/x-python",
   "name": "python",
   "nbconvert_exporter": "python",
   "pygments_lexer": "ipython3",
   "version": "3.12.7"
  }
 },
 "nbformat": 4,
 "nbformat_minor": 5
}
